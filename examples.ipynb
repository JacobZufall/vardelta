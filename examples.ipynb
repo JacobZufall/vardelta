{
 "cells": [
  {
   "cell_type": "markdown",
   "source": [
    "# Introduction\n",
    "Delta is data type that allows you to store the history of an integer or float and calculate the change between points in its history.\n",
    "\n",
    "Creating a Delta variable is simple!"
   ],
   "metadata": {
    "collapsed": false
   },
   "id": "71f996b6c0d06960"
  },
  {
   "cell_type": "code",
   "execution_count": 96,
   "id": "initial_id",
   "metadata": {
    "collapsed": true,
    "ExecuteTime": {
     "end_time": "2024-02-27T14:53:15.882322600Z",
     "start_time": "2024-02-27T14:53:15.867776100Z"
    }
   },
   "outputs": [
    {
     "name": "stdout",
     "output_type": "stream",
     "text": [
      "[1]\n",
      "[None]\n"
     ]
    }
   ],
   "source": [
    "from src.vardelta.Delta import Delta\n",
    "\n",
    "my_value: Delta = Delta(1)\n",
    "\n",
    "print(my_value.values)\n",
    "print(my_value.changes)"
   ]
  },
  {
   "cell_type": "markdown",
   "source": [
    "We've just created a Delta variable with a value of 1!\n",
    "\n",
    "## Changing The Variable\n",
    "\n",
    "To change the variable, simply use the `change_value()` function and specify what you want to change it to as an argument."
   ],
   "metadata": {
    "collapsed": false
   },
   "id": "bda70d089d443756"
  },
  {
   "cell_type": "code",
   "outputs": [
    {
     "name": "stdout",
     "output_type": "stream",
     "text": [
      "5\n",
      "4\n",
      "1\n",
      "0.0\n",
      "[1, 5]\n",
      "[None, 4]\n"
     ]
    }
   ],
   "source": [
    "# This will change the value to 5.\n",
    "my_value.change_value(5)\n",
    "\n",
    "# To confirm it worked, we can print the variable.\n",
    "print(my_value.get_value())\n",
    "\n",
    "# We can also see how much it changed!\n",
    "print(my_value.get_change())\n",
    "\n",
    "# Alternatively, you can use .value and .change to get the latest value and latest change.\n",
    "print(my_value.value)\n",
    "print(my_value.change)\n",
    "\n",
    "print(my_value.values)\n",
    "print(my_value.changes)"
   ],
   "metadata": {
    "collapsed": false,
    "ExecuteTime": {
     "end_time": "2024-02-27T14:52:49.123037700Z",
     "start_time": "2024-02-27T14:52:49.070642800Z"
    }
   },
   "id": "1ba3538d4a5b57f1",
   "execution_count": 91
  },
  {
   "cell_type": "markdown",
   "source": [
    "## Recalling Values\n",
    "\n",
    "By using the `get_value()` function like we did above, you can get the current value of the variable. However, you can also retrieve a value that the variable used to be by specifying how many changes ago it was.\n",
    "\n",
    "For example, `get_value(0)` will retrieve the current value (you can also just say `get_value()`, as shown above). But `get_value(1)` will retrieve the value it was previously, and so on."
   ],
   "metadata": {
    "collapsed": false
   },
   "id": "8604ea723a317c6f"
  },
  {
   "cell_type": "code",
   "outputs": [
    {
     "name": "stdout",
     "output_type": "stream",
     "text": [
      "7\n",
      "1\n"
     ]
    }
   ],
   "source": [
    "# Changing the variable to add some history to select from.\n",
    "my_value.change_value(10)\n",
    "my_value.change_value(7)\n",
    "my_value.change_value(2_000)\n",
    "my_value.change_value(45)\n",
    "\n",
    "# Will print the value as it was two changes ago, or \"7\".\n",
    "print(my_value.get_value(2))\n",
    "\n",
    "# Will print the value as it was when we first created it, or \"1\".\n",
    "print(my_value.get_value(5))"
   ],
   "metadata": {
    "collapsed": false,
    "ExecuteTime": {
     "end_time": "2024-02-27T14:52:49.125043500Z",
     "start_time": "2024-02-27T14:52:49.077670700Z"
    }
   },
   "id": "fb4ea6a9ca1677b1",
   "execution_count": 92
  },
  {
   "cell_type": "markdown",
   "source": [
    "One of the issues with this is that as the value changes, the number `get_value()` returns changes.\n",
    "\n",
    "This is different from the list data type, where `list[0]` would always return the first value (unless the first value was explicitly changed. Delta doesn't work this way.\n",
    "\n",
    "If it helps, a way to think about Delta is a list that's indexed backwards. Since this is the case, we can use -1 to get the first value that the Delta variable was, similar to how -1 is always the last index of a list."
   ],
   "metadata": {
    "collapsed": false
   },
   "id": "132066731ead0307"
  },
  {
   "cell_type": "code",
   "outputs": [
    {
     "name": "stdout",
     "output_type": "stream",
     "text": [
      "1\n",
      "1\n"
     ]
    }
   ],
   "source": [
    "# This will both print the first value, currently.\n",
    "print(my_value.get_value(-1))\n",
    "# If you were to add a new value before the line below this comment ran, it would not print the same value as the line above this comment does.\n",
    "print(my_value.get_value(5))"
   ],
   "metadata": {
    "collapsed": false,
    "ExecuteTime": {
     "end_time": "2024-02-27T14:52:49.126554Z",
     "start_time": "2024-02-27T14:52:49.084649200Z"
    }
   },
   "id": "2876a0b9cb74a33e",
   "execution_count": 93
  }
 ],
 "metadata": {
  "kernelspec": {
   "display_name": "Python 3",
   "language": "python",
   "name": "python3"
  },
  "language_info": {
   "codemirror_mode": {
    "name": "ipython",
    "version": 2
   },
   "file_extension": ".py",
   "mimetype": "text/x-python",
   "name": "python",
   "nbconvert_exporter": "python",
   "pygments_lexer": "ipython2",
   "version": "2.7.6"
  }
 },
 "nbformat": 4,
 "nbformat_minor": 5
}
